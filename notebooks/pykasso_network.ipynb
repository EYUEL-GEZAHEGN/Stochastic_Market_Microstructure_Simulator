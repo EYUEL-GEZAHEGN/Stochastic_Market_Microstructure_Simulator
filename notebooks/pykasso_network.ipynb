{
 "cells": [
  {
   "cell_type": "code",
   "execution_count": 1,
   "metadata": {},
   "outputs": [],
   "source": [
    "import numpy as np\n",
    "\n",
    "# Imagine this as a 3D space where volume/liquidity has spatial meaning\n",
    "market_space = np.zeros((50, 50, 50))\n",
    "\n",
    "# Add higher \"permeability\" where institutions are more active\n",
    "market_space[10:20, 10:20, 10:20] = 1.0  # e.g., Citadel zone\n",
    "market_space[30:40, 30:40, 30:40] = 0.8  # e.g., NASDAQ zone\n"
   ]
  },
  {
   "cell_type": "code",
   "execution_count": 3,
   "metadata": {},
   "outputs": [
    {
     "name": "stdout",
     "output_type": "stream",
     "text": [
      "^C\n",
      "Note: you may need to restart the kernel to use updated packages.\n"
     ]
    }
   ],
   "source": [
    "pip install pykasso"
   ]
  },
  {
   "cell_type": "code",
   "execution_count": null,
   "metadata": {},
   "outputs": [],
   "source": [
    "from pykasso.generator import ConduitGenerator\n",
    "from pykasso.input import PyKassoInput\n",
    "from pykasso.utils import visualize\n",
    "\n",
    "# Step 1: Create input object\n",
    "input_params = PyKassoInput(\n",
    "    shape=(50, 50, 50),\n",
    "    seed_points=[(5, 5, 5)],\n",
    "    permeability_map=market_space,  # this is your \"market field\"\n",
    "    max_length=1000,\n",
    "    anisotropy_direction=(1, 0.5, 0.2),\n",
    "    step_size=1\n",
    ")\n",
    "\n",
    "# Step 2: Generate network (flow simulation)\n",
    "generator = ConduitGenerator(input_params)\n",
    "network = generator.generate()\n",
    "\n",
    "# Step 3: Visualize (optional for Jupyter or saved render)\n",
    "visualize(network)\n"
   ]
  }
 ],
 "metadata": {
  "kernelspec": {
   "display_name": "base",
   "language": "python",
   "name": "python3"
  },
  "language_info": {
   "codemirror_mode": {
    "name": "ipython",
    "version": 3
   },
   "file_extension": ".py",
   "mimetype": "text/x-python",
   "name": "python",
   "nbconvert_exporter": "python",
   "pygments_lexer": "ipython3",
   "version": "3.12.4"
  }
 },
 "nbformat": 4,
 "nbformat_minor": 2
}
